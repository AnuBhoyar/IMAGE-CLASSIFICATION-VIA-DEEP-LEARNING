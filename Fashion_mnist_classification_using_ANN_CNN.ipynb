{
 "cells": [
  {
   "cell_type": "code",
   "execution_count": 38,
   "id": "d29f8bce",
   "metadata": {},
   "outputs": [],
   "source": [
    "import tensorflow as tf\n",
    "from tensorflow import keras\n",
    "import matplotlib.pyplot as plt\n",
    "import numpy as np"
   ]
  },
  {
   "cell_type": "markdown",
   "id": "6f087799",
   "metadata": {},
   "source": [
    "#### Load Dataset"
   ]
  },
  {
   "cell_type": "code",
   "execution_count": 39,
   "id": "54992ff7",
   "metadata": {},
   "outputs": [],
   "source": [
    "(X_train,y_train),(X_test,y_test)=tf.keras.datasets.fashion_mnist.load_data()"
   ]
  },
  {
   "cell_type": "code",
   "execution_count": 40,
   "id": "f0c5bbc4",
   "metadata": {
    "scrolled": true
   },
   "outputs": [
    {
     "data": {
      "text/plain": [
       "(60000, 28, 28)"
      ]
     },
     "execution_count": 40,
     "metadata": {},
     "output_type": "execute_result"
    }
   ],
   "source": [
    "X_train.shape"
   ]
  },
  {
   "cell_type": "code",
   "execution_count": 41,
   "id": "9a8a010f",
   "metadata": {},
   "outputs": [],
   "source": [
    "class_names = ['T-shirt/top', 'Trouser', 'Pullover', 'Dress', 'Coat',\n",
    "               'Sandal', 'Shirt', 'Sneaker', 'Bag', 'Ankle boot']"
   ]
  },
  {
   "cell_type": "code",
   "execution_count": 42,
   "id": "9ace2945",
   "metadata": {
    "scrolled": true
   },
   "outputs": [
    {
     "data": {
      "text/plain": [
       "<matplotlib.image.AxesImage at 0x7fa5b94c7190>"
      ]
     },
     "execution_count": 42,
     "metadata": {},
     "output_type": "execute_result"
    },
    {
     "data": {
      "image/png": "[encoded data removed]",
      "text/plain": [
       "<Figure size 1000x100 with 1 Axes>"
      ]
     },
     "metadata": {},
     "output_type": "display_data"
    }
   ],
   "source": [
    "plt.figure(figsize=(10,1))\n",
    "plt.imshow(X_train[0])"
   ]
  },
  {
   "cell_type": "code",
   "execution_count": 43,
   "id": "85c30db9",
   "metadata": {},
   "outputs": [
    {
     "data": {
      "text/plain": [
       "9"
      ]
     },
     "execution_count": 43,
     "metadata": {},
     "output_type": "execute_result"
    }
   ],
   "source": [
    "y_train[0]"
   ]
  },
  {
   "cell_type": "code",
   "execution_count": 44,
   "id": "fa1766cc",
   "metadata": {},
   "outputs": [
    {
     "data": {
      "text/plain": [
       "'Ankle boot'"
      ]
     },
     "execution_count": 44,
     "metadata": {},
     "output_type": "execute_result"
    }
   ],
   "source": [
    "class_names[y_train[0]]"
   ]
  },
  {
   "cell_type": "markdown",
   "id": "b6bce9a7",
   "metadata": {},
   "source": [
    "#### Normalizing images"
   ]
  },
  {
   "cell_type": "code",
   "execution_count": 45,
   "id": "49fb0876",
   "metadata": {},
   "outputs": [],
   "source": [
    "X_train_scaled = X_train / 255.0\n",
    "X_test_scaled = X_test / 255.0"
   ]
  },
  {
   "cell_type": "markdown",
   "id": "136083d2",
   "metadata": {},
   "source": [
    "##### Simple Neural Network"
   ]
  },
  {
   "cell_type": "code",
   "execution_count": 83,
   "id": "e2f5934b",
   "metadata": {},
   "outputs": [
    {
     "name": "stdout",
     "output_type": "stream",
     "text": [
      "Epoch 1/5\n",
      "1875/1875 [==============================] - 6s 3ms/step - loss: 0.4712 - accuracy: 0.8304\n",
      "Epoch 2/5\n",
      "1875/1875 [==============================] - 5s 3ms/step - loss: 0.3558 - accuracy: 0.8694\n",
      "Epoch 3/5\n",
      "1875/1875 [==============================] - 5s 3ms/step - loss: 0.3206 - accuracy: 0.8819\n",
      "Epoch 4/5\n",
      "1875/1875 [==============================] - 5s 3ms/step - loss: 0.2958 - accuracy: 0.8899\n",
      "Epoch 5/5\n",
      "1875/1875 [==============================] - 5s 3ms/step - loss: 0.2799 - accuracy: 0.8954\n"
     ]
    },
    {
     "data": {
      "text/plain": [
       "<keras.callbacks.History at 0x7fa598102c40>"
      ]
     },
     "execution_count": 83,
     "metadata": {},
     "output_type": "execute_result"
    }
   ],
   "source": [
    "#Model with Adam optimizer\n",
    "model=keras.Sequential([\n",
    "    keras.layers.Flatten(input_shape=(28,28)),\n",
    "    keras.layers.Dense(1000,activation='relu'),\n",
    "    keras.layers.Dense(10,activation='sigmoid')\n",
    "           \n",
    "])\n",
    "model.compile(optimizer='adam',\n",
    "             loss='sparse_categorical_crossentropy',\n",
    "             metrics=['accuracy'])\n",
    "\n",
    "model.fit(X_train_scaled,y_train,epochs=5)"
   ]
  },
  {
   "cell_type": "code",
   "execution_count": 84,
   "id": "e5bfefb7",
   "metadata": {},
   "outputs": [
    {
     "name": "stdout",
     "output_type": "stream",
     "text": [
      "313/313 [==============================] - 1s 2ms/step - loss: 0.3436 - accuracy: 0.8754\n"
     ]
    },
    {
     "data": {
      "text/plain": [
       "[0.34363988041877747, 0.8754000067710876]"
      ]
     },
     "execution_count": 84,
     "metadata": {},
     "output_type": "execute_result"
    }
   ],
   "source": [
    "model.evaluate(X_test_scaled,y_test)"
   ]
  },
  {
   "cell_type": "code",
   "execution_count": 88,
   "id": "8f1c2ee6",
   "metadata": {},
   "outputs": [
    {
     "name": "stdout",
     "output_type": "stream",
     "text": [
      "313/313 [==============================] - 1s 2ms/step\n"
     ]
    },
    {
     "data": {
      "text/plain": [
       "array([[3.54155691e-06, 1.46040222e-07, 2.86374927e-07, 8.76339570e-08,\n",
       "        3.99954928e-07, 6.47818670e-03, 1.88678441e-05, 3.28685343e-01,\n",
       "        5.26247231e-06, 9.11923647e-01],\n",
       "       [1.97148230e-02, 1.63040255e-07, 9.99864399e-01, 9.85731822e-06,\n",
       "        6.61885977e-01, 2.36645423e-08, 5.51789343e-01, 3.25781882e-13,\n",
       "        2.10186481e-05, 1.01815854e-08],\n",
       "       [3.14440666e-04, 9.99999940e-01, 1.16885104e-07, 1.85884256e-02,\n",
       "        1.89001890e-04, 1.35838042e-12, 1.11289977e-04, 4.53330007e-18,\n",
       "        1.08162885e-06, 1.00566768e-11]], dtype=float32)"
      ]
     },
     "execution_count": 88,
     "metadata": {},
     "output_type": "execute_result"
    }
   ],
   "source": [
    "y_pred1=model.predict(X_test_scaled)\n",
    "y_pred1[:3]"
   ]
  },
  {
   "cell_type": "code",
   "execution_count": 89,
   "id": "5b8ce1d3",
   "metadata": {},
   "outputs": [
    {
     "data": {
      "text/plain": [
       "[9, 2, 1, 1, 6]"
      ]
     },
     "execution_count": 89,
     "metadata": {},
     "output_type": "execute_result"
    }
   ],
   "source": [
    "y_pred_class1=[np.argmax(ele) for ele in y_pred]\n",
    "y_pred_class1[:5]"
   ]
  },
  {
   "cell_type": "code",
   "execution_count": 90,
   "id": "37261ea2",
   "metadata": {},
   "outputs": [
    {
     "data": {
      "text/plain": [
       "array([9, 2, 1, 1, 6], dtype=uint8)"
      ]
     },
     "execution_count": 90,
     "metadata": {},
     "output_type": "execute_result"
    }
   ],
   "source": [
    "y_test[:5]"
   ]
  },
  {
   "cell_type": "code",
   "execution_count": 91,
   "id": "babd6464",
   "metadata": {},
   "outputs": [
    {
     "name": "stdout",
     "output_type": "stream",
     "text": [
      "cassification Report: \n",
      "               precision    recall  f1-score   support\n",
      "\n",
      "           0       0.87      0.79      0.83      1000\n",
      "           1       0.99      0.97      0.98      1000\n",
      "           2       0.73      0.83      0.78      1000\n",
      "           3       0.86      0.90      0.88      1000\n",
      "           4       0.73      0.82      0.77      1000\n",
      "           5       0.99      0.95      0.97      1000\n",
      "           6       0.72      0.59      0.65      1000\n",
      "           7       0.93      0.98      0.95      1000\n",
      "           8       0.97      0.97      0.97      1000\n",
      "           9       0.96      0.95      0.96      1000\n",
      "\n",
      "    accuracy                           0.88     10000\n",
      "   macro avg       0.88      0.88      0.87     10000\n",
      "weighted avg       0.88      0.88      0.87     10000\n",
      "\n"
     ]
    }
   ],
   "source": [
    "from sklearn.metrics import confusion_matrix, classification_report\n",
    "print('cassification Report: \\n',classification_report(y_test,y_pred_class1))"
   ]
  },
  {
   "cell_type": "code",
   "execution_count": 92,
   "id": "2fcbed00",
   "metadata": {},
   "outputs": [
    {
     "name": "stdout",
     "output_type": "stream",
     "text": [
      "Epoch 1/5\n",
      "1875/1875 [==============================] - 5s 2ms/step - loss: 0.6958 - accuracy: 0.7763\n",
      "Epoch 2/5\n",
      "1875/1875 [==============================] - 5s 2ms/step - loss: 0.4940 - accuracy: 0.8343\n",
      "Epoch 3/5\n",
      "1875/1875 [==============================] - 5s 2ms/step - loss: 0.4519 - accuracy: 0.8448\n",
      "Epoch 4/5\n",
      "1875/1875 [==============================] - 5s 2ms/step - loss: 0.4279 - accuracy: 0.8534\n",
      "Epoch 5/5\n",
      "1875/1875 [==============================] - 5s 2ms/step - loss: 0.4095 - accuracy: 0.8584\n"
     ]
    },
    {
     "data": {
      "text/plain": [
       "<keras.callbacks.History at 0x7fa598103310>"
      ]
     },
     "execution_count": 92,
     "metadata": {},
     "output_type": "execute_result"
    }
   ],
   "source": [
    "#Model with SGD optimizer\n",
    "model1=keras.Sequential([\n",
    "    keras.layers.Flatten(input_shape=(28,28)),\n",
    "    keras.layers.Dense(1000,activation='relu'),\n",
    "    keras.layers.Dense(10,activation='sigmoid')\n",
    "           \n",
    "])\n",
    "model1.compile(optimizer='SGD',\n",
    "             loss='sparse_categorical_crossentropy',\n",
    "             metrics=['accuracy'])\n",
    "\n",
    "model1.fit(X_train_scaled,y_train,epochs=5)"
   ]
  },
  {
   "cell_type": "code",
   "execution_count": 93,
   "id": "12792a9a",
   "metadata": {},
   "outputs": [
    {
     "name": "stdout",
     "output_type": "stream",
     "text": [
      "313/313 [==============================] - 1s 2ms/step\n"
     ]
    },
    {
     "data": {
      "text/plain": [
       "1"
      ]
     },
     "execution_count": 93,
     "metadata": {},
     "output_type": "execute_result"
    }
   ],
   "source": [
    "np.argmax(model1.predict(X_test_scaled)[2])"
   ]
  },
  {
   "cell_type": "code",
   "execution_count": 94,
   "id": "df65eabe",
   "metadata": {},
   "outputs": [
    {
     "data": {
      "text/plain": [
       "1"
      ]
     },
     "execution_count": 94,
     "metadata": {},
     "output_type": "execute_result"
    }
   ],
   "source": [
    "y_test[2]"
   ]
  },
  {
   "cell_type": "code",
   "execution_count": 95,
   "id": "4beb1170",
   "metadata": {},
   "outputs": [
    {
     "name": "stdout",
     "output_type": "stream",
     "text": [
      "313/313 [==============================] - 1s 2ms/step - loss: 0.4385 - accuracy: 0.8459\n"
     ]
    },
    {
     "data": {
      "text/plain": [
       "[0.4384825825691223, 0.8458999991416931]"
      ]
     },
     "execution_count": 95,
     "metadata": {},
     "output_type": "execute_result"
    }
   ],
   "source": [
    "#model accuracy\n",
    "model1.evaluate(X_test_scaled,y_test)"
   ]
  },
  {
   "cell_type": "markdown",
   "id": "34ed0e92",
   "metadata": {},
   "source": [
    "##### Convolutional Neural Network"
   ]
  },
  {
   "cell_type": "code",
   "execution_count": 64,
   "id": "c89a0e12",
   "metadata": {},
   "outputs": [
    {
     "name": "stdout",
     "output_type": "stream",
     "text": [
      "Epoch 1/5\n",
      "1875/1875 [==============================] - 10s 5ms/step - loss: 0.3885 - accuracy: 0.8608\n",
      "Epoch 2/5\n",
      "1875/1875 [==============================] - 9s 5ms/step - loss: 0.2699 - accuracy: 0.9020\n",
      "Epoch 3/5\n",
      "1875/1875 [==============================] - 9s 5ms/step - loss: 0.2250 - accuracy: 0.9164\n",
      "Epoch 4/5\n",
      "1875/1875 [==============================] - 9s 5ms/step - loss: 0.1936 - accuracy: 0.9296\n",
      "Epoch 5/5\n",
      "1875/1875 [==============================] - 9s 5ms/step - loss: 0.1674 - accuracy: 0.9373\n"
     ]
    },
    {
     "data": {
      "text/plain": [
       "<keras.callbacks.History at 0x7fa5a852deb0>"
      ]
     },
     "execution_count": 64,
     "metadata": {},
     "output_type": "execute_result"
    }
   ],
   "source": [
    "CNN = keras.Sequential([ \n",
    "    keras.layers.Conv2D(30, (3,3), activation='relu', input_shape=(28, 28, 1)),\n",
    "    keras.layers.MaxPooling2D((2,2)),\n",
    " \n",
    "    keras.layers.Flatten(),\n",
    "    keras.layers.Dense(100, activation='relu'),\n",
    "    keras.layers.Dense(10, activation='sigmoid')\n",
    "])\n",
    "\n",
    "CNN.compile(optimizer='adam',\n",
    "             loss='sparse_categorical_crossentropy',\n",
    "             metrics=['accuracy'])\n",
    "\n",
    "CNN.fit(X_train_scaled,y_train,epochs=5)"
   ]
  },
  {
   "cell_type": "code",
   "execution_count": 75,
   "id": "86480fd2",
   "metadata": {},
   "outputs": [
    {
     "name": "stdout",
     "output_type": "stream",
     "text": [
      "313/313 [==============================] - 1s 2ms/step - loss: 0.2593 - accuracy: 0.9110\n"
     ]
    },
    {
     "data": {
      "text/plain": [
       "[0.2592964470386505, 0.9110000133514404]"
      ]
     },
     "execution_count": 75,
     "metadata": {},
     "output_type": "execute_result"
    }
   ],
   "source": [
    "CNN.evaluate(X_test_scaled,y_test)"
   ]
  },
  {
   "cell_type": "code",
   "execution_count": 76,
   "id": "27d82550",
   "metadata": {},
   "outputs": [
    {
     "name": "stdout",
     "output_type": "stream",
     "text": [
      "313/313 [==============================] - 1s 1ms/step\n"
     ]
    },
    {
     "data": {
      "text/plain": [
       "array([[1.4462129e-03, 1.1398465e-03, 3.2727864e-02, 6.7208178e-04,\n",
       "        3.2430012e-03, 8.8441688e-01, 3.6866985e-02, 9.3901151e-01,\n",
       "        3.1235280e-02, 9.9980581e-01],\n",
       "       [6.8663079e-01, 1.5977861e-05, 9.9999958e-01, 8.7348580e-02,\n",
       "        5.2172595e-01, 3.1402610e-08, 9.8230445e-01, 7.9570306e-09,\n",
       "        1.4659995e-06, 2.0701947e-10],\n",
       "       [4.5000157e-01, 9.9999988e-01, 1.1599483e-03, 1.5981954e-02,\n",
       "        3.4113764e-03, 5.4212239e-07, 7.3942818e-02, 2.0502275e-04,\n",
       "        5.4413922e-05, 2.3544917e-08]], dtype=float32)"
      ]
     },
     "execution_count": 76,
     "metadata": {},
     "output_type": "execute_result"
    }
   ],
   "source": [
    "y_pred=CNN.predict(X_test_scaled)\n",
    "y_pred[:3]"
   ]
  },
  {
   "cell_type": "code",
   "execution_count": 77,
   "id": "233549b5",
   "metadata": {},
   "outputs": [
    {
     "data": {
      "text/plain": [
       "[9, 2, 1, 1, 0]"
      ]
     },
     "execution_count": 77,
     "metadata": {},
     "output_type": "execute_result"
    }
   ],
   "source": [
    "y_pred_class=[np.argmax(ele) for ele in y_pred]\n",
    "y_pred_class[:5]"
   ]
  },
  {
   "cell_type": "code",
   "execution_count": 78,
   "id": "fe255ba0",
   "metadata": {},
   "outputs": [
    {
     "data": {
      "text/plain": [
       "array([9, 2, 1, 1, 6], dtype=uint8)"
      ]
     },
     "execution_count": 78,
     "metadata": {},
     "output_type": "execute_result"
    }
   ],
   "source": [
    "y_test[:5]"
   ]
  },
  {
   "cell_type": "code",
   "execution_count": 79,
   "id": "c97c86bf",
   "metadata": {},
   "outputs": [
    {
     "name": "stdout",
     "output_type": "stream",
     "text": [
      "cassification Report: \n",
      "               precision    recall  f1-score   support\n",
      "\n",
      "           0       0.80      0.91      0.85      1000\n",
      "           1       1.00      0.97      0.99      1000\n",
      "           2       0.85      0.89      0.87      1000\n",
      "           3       0.91      0.91      0.91      1000\n",
      "           4       0.88      0.85      0.86      1000\n",
      "           5       0.97      1.00      0.98      1000\n",
      "           6       0.80      0.70      0.75      1000\n",
      "           7       0.93      0.98      0.96      1000\n",
      "           8       0.98      0.98      0.98      1000\n",
      "           9       0.99      0.93      0.96      1000\n",
      "\n",
      "    accuracy                           0.91     10000\n",
      "   macro avg       0.91      0.91      0.91     10000\n",
      "weighted avg       0.91      0.91      0.91     10000\n",
      "\n"
     ]
    }
   ],
   "source": [
    "# from sklearn.metrics import confusion_matrix, classification_report\n",
    "print('cassification Report: \\n',classification_report(y_test,y_pred_class))"
   ]
  }
 ],
 "metadata": {
  "kernelspec": {
   "display_name": "Python 3 (ipykernel)",
   "language": "python",
   "name": "python3"
  },
  "language_info": {
   "codemirror_mode": {
    "name": "ipython",
    "version": 3
   },
   "file_extension": ".py",
   "mimetype": "text/x-python",
   "name": "python",
   "nbconvert_exporter": "python",
   "pygments_lexer": "ipython3",
   "version": "3.9.7"
  }
 },
 "nbformat": 4,
 "nbformat_minor": 5
}
