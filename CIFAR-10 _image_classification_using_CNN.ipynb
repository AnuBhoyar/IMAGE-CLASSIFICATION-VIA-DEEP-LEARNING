{
 "cells": [
  {
   "cell_type": "code",
   "execution_count": 1,
   "id": "80c6b335",
   "metadata": {},
   "outputs": [],
   "source": [
    "import tensorflow as tf\n",
    "from tensorflow.keras import datasets,layers,models\n",
    "import matplotlib.pyplot as plt\n",
    "import numpy as np"
   ]
  },
  {
   "cell_type": "code",
   "execution_count": 2,
   "id": "4450bea1",
   "metadata": {},
   "outputs": [],
   "source": [
    "(X_train,y_train),(X_test,y_test)=tf.keras.datasets.cifar10.load_data()"
   ]
  },
  {
   "cell_type": "code",
   "execution_count": 3,
   "id": "6425bd27",
   "metadata": {},
   "outputs": [
    {
     "data": {
      "text/plain": [
       "(50000, 32, 32, 3)"
      ]
     },
     "execution_count": 3,
     "metadata": {},
     "output_type": "execute_result"
    }
   ],
   "source": [
    "X_train.shape"
   ]
  },
  {
   "cell_type": "code",
   "execution_count": 4,
   "id": "2a25897e",
   "metadata": {},
   "outputs": [
    {
     "data": {
      "text/plain": [
       "(10000, 32, 32, 3)"
      ]
     },
     "execution_count": 4,
     "metadata": {},
     "output_type": "execute_result"
    }
   ],
   "source": [
    "X_test.shape"
   ]
  },
  {
   "cell_type": "code",
   "execution_count": 10,
   "id": "0a6c2bcf",
   "metadata": {},
   "outputs": [
    {
     "data": {
      "text/plain": [
       "(50000, 1)"
      ]
     },
     "execution_count": 10,
     "metadata": {},
     "output_type": "execute_result"
    }
   ],
   "source": [
    "y_train.shape"
   ]
  },
  {
   "cell_type": "code",
   "execution_count": 11,
   "id": "70219a4a",
   "metadata": {},
   "outputs": [
    {
     "data": {
      "text/plain": [
       "array([[6],\n",
       "       [9],\n",
       "       [9]], dtype=uint8)"
      ]
     },
     "execution_count": 11,
     "metadata": {},
     "output_type": "execute_result"
    }
   ],
   "source": [
    "y_train[:3]"
   ]
  },
  {
   "cell_type": "code",
   "execution_count": 12,
   "id": "a50618f1",
   "metadata": {},
   "outputs": [
    {
     "data": {
      "text/plain": [
       "array([6, 9, 9], dtype=uint8)"
      ]
     },
     "execution_count": 12,
     "metadata": {},
     "output_type": "execute_result"
    }
   ],
   "source": [
    "# convert 2 dimentional y_train array to one-dimentional\n",
    "y_train=y_train.reshape(-1,)\n",
    "y_train[:3]"
   ]
  },
  {
   "cell_type": "code",
   "execution_count": 9,
   "id": "7d2d4df8",
   "metadata": {},
   "outputs": [],
   "source": [
    "classes=['airplane','automobile','bird','cat','deer','dog','frog','horse','ship','truck']"
   ]
  },
  {
   "cell_type": "code",
   "execution_count": 44,
   "id": "8e37eb66",
   "metadata": {},
   "outputs": [],
   "source": [
    "def plot_img(X,y,index):\n",
    "    plt.figure(figsize=(15,2))\n",
    "    plt.imshow(X[index])\n",
    "    plt.xlabel(classes[y[index]])"
   ]
  },
  {
   "cell_type": "code",
   "execution_count": 45,
   "id": "3df867cd",
   "metadata": {},
   "outputs": [
    {
     "data": {
      "image/png": "[encoded data removed]",
      "text/plain": [
       "<Figure size 1500x200 with 1 Axes>"
      ]
     },
     "metadata": {},
     "output_type": "display_data"
    }
   ],
   "source": [
    "plot_img(X_train,y_train,7)"
   ]
  },
  {
   "cell_type": "code",
   "execution_count": 46,
   "id": "ebc7b59b",
   "metadata": {},
   "outputs": [
    {
     "data": {
      "image/png": "[encoded data removed]",
      "text/plain": [
       "<Figure size 1500x200 with 1 Axes>"
      ]
     },
     "metadata": {},
     "output_type": "display_data"
    }
   ],
   "source": [
    "plot_img(X_train,y_train,2)"
   ]
  },
  {
   "cell_type": "code",
   "execution_count": 24,
   "id": "389a69e3",
   "metadata": {},
   "outputs": [],
   "source": [
    "#Normalize data\n",
    "X_train=X_train/255\n",
    "X_test=X_test/255"
   ]
  },
  {
   "cell_type": "markdown",
   "id": "e721f753",
   "metadata": {},
   "source": [
    "##### Simple Nural Network"
   ]
  },
  {
   "cell_type": "code",
   "execution_count": 32,
   "id": "14a57a70",
   "metadata": {},
   "outputs": [
    {
     "name": "stdout",
     "output_type": "stream",
     "text": [
      "Epoch 1/4\n",
      "1563/1563 [==============================] - 34s 22ms/step - loss: 1.8136 - accuracy: 0.3529\n",
      "Epoch 2/4\n",
      "1563/1563 [==============================] - 34s 22ms/step - loss: 1.6225 - accuracy: 0.4282\n",
      "Epoch 3/4\n",
      "1563/1563 [==============================] - 34s 22ms/step - loss: 1.5401 - accuracy: 0.4556\n",
      "Epoch 4/4\n",
      "1563/1563 [==============================] - 34s 22ms/step - loss: 1.4817 - accuracy: 0.4794\n"
     ]
    },
    {
     "data": {
      "text/plain": [
       "<keras.callbacks.History at 0x7fe31155ee20>"
      ]
     },
     "execution_count": 32,
     "metadata": {},
     "output_type": "execute_result"
    }
   ],
   "source": [
    "ANN=models.Sequential([\n",
    "    layers.Flatten(input_shape=(32,32,3)),\n",
    "    layers.Dense(3000,activation='relu'),\n",
    "    layers.Dense(1000,activation='relu'),\n",
    "    layers.Dense(10,activation='sigmoid')\n",
    "           \n",
    "])\n",
    "ANN.compile(optimizer='SGD',\n",
    "             loss='sparse_categorical_crossentropy',\n",
    "             metrics=['accuracy'])\n",
    "\n",
    "ANN.fit(X_train,y_train,epochs=4)"
   ]
  },
  {
   "cell_type": "code",
   "execution_count": 33,
   "id": "51c7ab6a",
   "metadata": {},
   "outputs": [
    {
     "name": "stdout",
     "output_type": "stream",
     "text": [
      "313/313 [==============================] - 4s 11ms/step - loss: 1.5007 - accuracy: 0.4625\n"
     ]
    },
    {
     "data": {
      "text/plain": [
       "[1.500737190246582, 0.4625000059604645]"
      ]
     },
     "execution_count": 33,
     "metadata": {},
     "output_type": "execute_result"
    }
   ],
   "source": [
    "ANN.evaluate(X_test,y_test)"
   ]
  },
  {
   "cell_type": "code",
   "execution_count": 35,
   "id": "8ddafc9f",
   "metadata": {},
   "outputs": [
    {
     "name": "stdout",
     "output_type": "stream",
     "text": [
      "313/313 [==============================] - 3s 11ms/step\n"
     ]
    },
    {
     "data": {
      "text/plain": [
       "array([0.77627176, 0.9352602 , 0.17044297, 0.24825373, 0.21897045,\n",
       "       0.06570155, 0.04190169, 0.20357955, 0.9741332 , 0.99164945],\n",
       "      dtype=float32)"
      ]
     },
     "execution_count": 35,
     "metadata": {},
     "output_type": "execute_result"
    }
   ],
   "source": [
    "#Classification Report\n",
    "from sklearn.metrics import confusion_matrix, classification_report\n",
    "y_pred=ANN.predict(X_test)\n",
    "y_pred[1]"
   ]
  },
  {
   "cell_type": "code",
   "execution_count": 36,
   "id": "1e625cdf",
   "metadata": {},
   "outputs": [
    {
     "name": "stdout",
     "output_type": "stream",
     "text": [
      "Classification Report: \n",
      "               precision    recall  f1-score   support\n",
      "\n",
      "           0       0.62      0.47      0.53      1000\n",
      "           1       0.69      0.35      0.47      1000\n",
      "           2       0.47      0.23      0.31      1000\n",
      "           3       0.37      0.28      0.32      1000\n",
      "           4       0.45      0.38      0.41      1000\n",
      "           5       0.38      0.38      0.38      1000\n",
      "           6       0.51      0.58      0.54      1000\n",
      "           7       0.48      0.57      0.52      1000\n",
      "           8       0.63      0.57      0.60      1000\n",
      "           9       0.34      0.81      0.48      1000\n",
      "\n",
      "    accuracy                           0.46     10000\n",
      "   macro avg       0.49      0.46      0.46     10000\n",
      "weighted avg       0.49      0.46      0.46     10000\n",
      "\n"
     ]
    }
   ],
   "source": [
    "y_pred_classes=[np.argmax(ele)for ele in y_pred]\n",
    "print('Classification Report: \\n',classification_report(y_test,y_pred_classes))"
   ]
  },
  {
   "cell_type": "markdown",
   "id": "50090c38",
   "metadata": {},
   "source": [
    "##### Convolutional Neural Network"
   ]
  },
  {
   "cell_type": "code",
   "execution_count": 38,
   "id": "9efc2bb0",
   "metadata": {},
   "outputs": [],
   "source": [
    "CNN=models.Sequential([\n",
    "    #CNN\n",
    "    layers.Conv2D(filters=32,kernel_size=(3,3),activation='relu',input_shape=(32,32,3)),\n",
    "    layers.MaxPooling2D((2,2)),\n",
    "    \n",
    "    layers.Conv2D(filters=32,kernel_size=(3,3),activation='relu'),\n",
    "    layers.MaxPooling2D((2,2)),\n",
    "    \n",
    "    #dense\n",
    "    layers.Flatten(),\n",
    "    layers.Dense(64,activation='relu'),\n",
    "    layers.Dense(10,activation='softmax'),\n",
    "])"
   ]
  },
  {
   "cell_type": "code",
   "execution_count": 39,
   "id": "e75bd770",
   "metadata": {},
   "outputs": [
    {
     "name": "stdout",
     "output_type": "stream",
     "text": [
      "Epoch 1/4\n",
      "1563/1563 [==============================] - 13s 8ms/step - loss: 1.4980 - accuracy: 0.4623\n",
      "Epoch 2/4\n",
      "1563/1563 [==============================] - 12s 8ms/step - loss: 1.1546 - accuracy: 0.5941\n",
      "Epoch 3/4\n",
      "1563/1563 [==============================] - 12s 8ms/step - loss: 1.0388 - accuracy: 0.6364\n",
      "Epoch 4/4\n",
      "1563/1563 [==============================] - 12s 8ms/step - loss: 0.9678 - accuracy: 0.6629\n"
     ]
    },
    {
     "data": {
      "text/plain": [
       "<keras.callbacks.History at 0x7fe2d02cdeb0>"
      ]
     },
     "execution_count": 39,
     "metadata": {},
     "output_type": "execute_result"
    }
   ],
   "source": [
    "CNN.compile(optimizer='adam',\n",
    "             loss='sparse_categorical_crossentropy',\n",
    "             metrics=['accuracy'])\n",
    "\n",
    "CNN.fit(X_train,y_train,epochs=4)"
   ]
  },
  {
   "cell_type": "code",
   "execution_count": 41,
   "id": "fed81cdb",
   "metadata": {},
   "outputs": [
    {
     "name": "stdout",
     "output_type": "stream",
     "text": [
      "313/313 [==============================] - 1s 3ms/step - loss: 0.9983 - accuracy: 0.6546\n"
     ]
    },
    {
     "data": {
      "text/plain": [
       "[0.9982720613479614, 0.6546000242233276]"
      ]
     },
     "execution_count": 41,
     "metadata": {},
     "output_type": "execute_result"
    }
   ],
   "source": [
    "CNN.evaluate(X_test,y_test)"
   ]
  },
  {
   "cell_type": "code",
   "execution_count": 47,
   "id": "74ba77ca",
   "metadata": {},
   "outputs": [
    {
     "data": {
      "image/png": "[encoded data removed]",
      "text/plain": [
       "<Figure size 1500x200 with 1 Axes>"
      ]
     },
     "metadata": {},
     "output_type": "display_data"
    }
   ],
   "source": [
    "y_test=y_test.reshape(-1,)\n",
    "plot_img(X_test,y_test,1)"
   ]
  },
  {
   "cell_type": "code",
   "execution_count": 50,
   "id": "81dac066",
   "metadata": {},
   "outputs": [
    {
     "name": "stdout",
     "output_type": "stream",
     "text": [
      "313/313 [==============================] - 1s 3ms/step\n"
     ]
    },
    {
     "data": {
      "text/plain": [
       "array([[9.1671627e-03, 5.8100524e-04, 2.4518142e-02, 4.6761686e-01,\n",
       "        8.6624864e-03, 8.2180150e-02, 1.9860914e-01, 2.1378393e-03,\n",
       "        2.0590784e-01, 6.1938766e-04],\n",
       "       [7.7415146e-02, 6.3091584e-02, 3.7894319e-05, 7.1990748e-06,\n",
       "        2.7395094e-05, 3.1390916e-06, 1.3641068e-07, 1.6460727e-06,\n",
       "        8.5018796e-01, 9.2279715e-03],\n",
       "       [4.8411600e-02, 9.0444088e-02, 1.6215096e-03, 5.0449916e-03,\n",
       "        8.0469443e-04, 2.5720722e-03, 5.0633098e-04, 7.1872579e-04,\n",
       "        8.1524175e-01, 3.4634177e-02]], dtype=float32)"
      ]
     },
     "execution_count": 50,
     "metadata": {},
     "output_type": "execute_result"
    }
   ],
   "source": [
    "y_pred=CNN.predict(X_test)\n",
    "y_pred[:3]"
   ]
  },
  {
   "cell_type": "code",
   "execution_count": 53,
   "id": "ebe644a7",
   "metadata": {},
   "outputs": [
    {
     "data": {
      "text/plain": [
       "[3, 8, 8, 0, 4]"
      ]
     },
     "execution_count": 53,
     "metadata": {},
     "output_type": "execute_result"
    }
   ],
   "source": [
    "y_pred_class=[np.argmax(ele) for ele in y_pred]\n",
    "y_pred_class[:5]"
   ]
  },
  {
   "cell_type": "code",
   "execution_count": 54,
   "id": "d5946a04",
   "metadata": {},
   "outputs": [
    {
     "data": {
      "text/plain": [
       "array([3, 8, 8, 0, 6], dtype=uint8)"
      ]
     },
     "execution_count": 54,
     "metadata": {},
     "output_type": "execute_result"
    }
   ],
   "source": [
    "y_test[:5]"
   ]
  },
  {
   "cell_type": "code",
   "execution_count": 55,
   "id": "819a5992",
   "metadata": {},
   "outputs": [
    {
     "name": "stdout",
     "output_type": "stream",
     "text": [
      "Classification Report: \n",
      "               precision    recall  f1-score   support\n",
      "\n",
      "           0       0.71      0.66      0.68      1000\n",
      "           1       0.85      0.67      0.75      1000\n",
      "           2       0.52      0.58      0.55      1000\n",
      "           3       0.51      0.46      0.48      1000\n",
      "           4       0.60      0.59      0.60      1000\n",
      "           5       0.57      0.54      0.56      1000\n",
      "           6       0.74      0.72      0.73      1000\n",
      "           7       0.75      0.69      0.71      1000\n",
      "           8       0.65      0.84      0.73      1000\n",
      "           9       0.68      0.80      0.74      1000\n",
      "\n",
      "    accuracy                           0.65     10000\n",
      "   macro avg       0.66      0.65      0.65     10000\n",
      "weighted avg       0.66      0.65      0.65     10000\n",
      "\n"
     ]
    }
   ],
   "source": [
    "print('Classification Report: \\n',classification_report(y_test,y_pred_class))"
   ]
  }
 ],
 "metadata": {
  "kernelspec": {
   "display_name": "Python 3 (ipykernel)",
   "language": "python",
   "name": "python3"
  },
  "language_info": {
   "codemirror_mode": {
    "name": "ipython",
    "version": 3
   },
   "file_extension": ".py",
   "mimetype": "text/x-python",
   "name": "python",
   "nbconvert_exporter": "python",
   "pygments_lexer": "ipython3",
   "version": "3.9.7"
  }
 },
 "nbformat": 4,
 "nbformat_minor": 5
}
